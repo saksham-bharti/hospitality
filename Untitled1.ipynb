{
 "cells": [
  {
   "cell_type": "code",
   "execution_count": 6,
   "id": "c06154bc-f087-4ff5-a5b9-b4d3b805010b",
   "metadata": {},
   "outputs": [
    {
     "ename": "AttributeError",
     "evalue": "'Series' object has no attribute 'columns'",
     "output_type": "error",
     "traceback": [
      "\u001b[1;31m---------------------------------------------------------------------------\u001b[0m",
      "\u001b[1;31mAttributeError\u001b[0m                            Traceback (most recent call last)",
      "\u001b[1;32m~\\AppData\\Local\\Temp\\ipykernel_20660\\1619578576.py\u001b[0m in \u001b[0;36m?\u001b[1;34m()\u001b[0m\n\u001b[0;32m      7\u001b[0m \u001b[0mallocation\u001b[0m \u001b[1;33m=\u001b[0m \u001b[1;33m[\u001b[0m\u001b[1;33m]\u001b[0m\u001b[1;33m\u001b[0m\u001b[1;33m\u001b[0m\u001b[0m\n\u001b[0;32m      8\u001b[0m \u001b[1;33m\u001b[0m\u001b[0m\n\u001b[0;32m      9\u001b[0m \u001b[1;31m# Iterate through each group\u001b[0m\u001b[1;33m\u001b[0m\u001b[1;33m\u001b[0m\u001b[0m\n\u001b[0;32m     10\u001b[0m \u001b[1;32mfor\u001b[0m \u001b[0m_\u001b[0m\u001b[1;33m,\u001b[0m \u001b[0mgroup\u001b[0m \u001b[1;32min\u001b[0m \u001b[0mdfg\u001b[0m\u001b[1;33m.\u001b[0m\u001b[0miterrows\u001b[0m\u001b[1;33m(\u001b[0m\u001b[1;33m)\u001b[0m\u001b[1;33m:\u001b[0m\u001b[1;33m\u001b[0m\u001b[1;33m\u001b[0m\u001b[0m\n\u001b[1;32m---> 11\u001b[1;33m     \u001b[0mgroup_id\u001b[0m \u001b[1;33m=\u001b[0m \u001b[0mgroup\u001b[0m\u001b[1;33m.\u001b[0m\u001b[0mcolumns\u001b[0m\u001b[1;33m[\u001b[0m\u001b[1;36m0\u001b[0m\u001b[1;33m]\u001b[0m\u001b[1;33m\u001b[0m\u001b[1;33m\u001b[0m\u001b[0m\n\u001b[0m\u001b[0;32m     12\u001b[0m     \u001b[0mmembers\u001b[0m \u001b[1;33m=\u001b[0m \u001b[0mgroup\u001b[0m\u001b[1;33m[\u001b[0m\u001b[1;34m'Members'\u001b[0m\u001b[1;33m]\u001b[0m\u001b[1;33m\u001b[0m\u001b[1;33m\u001b[0m\u001b[0m\n\u001b[0;32m     13\u001b[0m     \u001b[0mgender\u001b[0m \u001b[1;33m=\u001b[0m \u001b[0mgroup\u001b[0m\u001b[1;33m[\u001b[0m\u001b[1;34m'Gender'\u001b[0m\u001b[1;33m]\u001b[0m\u001b[1;33m\u001b[0m\u001b[1;33m\u001b[0m\u001b[0m\n\u001b[0;32m     14\u001b[0m \u001b[1;33m\u001b[0m\u001b[0m\n",
      "\u001b[1;32m~\\anaconda3\\Lib\\site-packages\\pandas\\core\\generic.py\u001b[0m in \u001b[0;36m?\u001b[1;34m(self, name)\u001b[0m\n\u001b[0;32m   6200\u001b[0m             \u001b[1;32mand\u001b[0m \u001b[0mname\u001b[0m \u001b[1;32mnot\u001b[0m \u001b[1;32min\u001b[0m \u001b[0mself\u001b[0m\u001b[1;33m.\u001b[0m\u001b[0m_accessors\u001b[0m\u001b[1;33m\u001b[0m\u001b[1;33m\u001b[0m\u001b[0m\n\u001b[0;32m   6201\u001b[0m             \u001b[1;32mand\u001b[0m \u001b[0mself\u001b[0m\u001b[1;33m.\u001b[0m\u001b[0m_info_axis\u001b[0m\u001b[1;33m.\u001b[0m\u001b[0m_can_hold_identifiers_and_holds_name\u001b[0m\u001b[1;33m(\u001b[0m\u001b[0mname\u001b[0m\u001b[1;33m)\u001b[0m\u001b[1;33m\u001b[0m\u001b[1;33m\u001b[0m\u001b[0m\n\u001b[0;32m   6202\u001b[0m         ):\n\u001b[0;32m   6203\u001b[0m             \u001b[1;32mreturn\u001b[0m \u001b[0mself\u001b[0m\u001b[1;33m[\u001b[0m\u001b[0mname\u001b[0m\u001b[1;33m]\u001b[0m\u001b[1;33m\u001b[0m\u001b[1;33m\u001b[0m\u001b[0m\n\u001b[1;32m-> 6204\u001b[1;33m         \u001b[1;32mreturn\u001b[0m \u001b[0mobject\u001b[0m\u001b[1;33m.\u001b[0m\u001b[0m__getattribute__\u001b[0m\u001b[1;33m(\u001b[0m\u001b[0mself\u001b[0m\u001b[1;33m,\u001b[0m \u001b[0mname\u001b[0m\u001b[1;33m)\u001b[0m\u001b[1;33m\u001b[0m\u001b[1;33m\u001b[0m\u001b[0m\n\u001b[0m",
      "\u001b[1;31mAttributeError\u001b[0m: 'Series' object has no attribute 'columns'"
     ]
    }
   ],
   "source": [
    "import pandas as pd\n",
    "\n",
    "# Load CSV files\n",
    "dfg = pd.read_csv('group.csv', low_memory=False)\n",
    "dfh = pd.read_csv('hostels.csv', low_memory=False)\n",
    "\n",
    "allocation = []\n",
    "\n",
    "# Iterate through each group\n",
    "\n",
    "for _, group in dfg.iterrows():\n",
    "    group_id = group.columns[0]\n",
    "    members = group['Members']\n",
    "    gender = group['Gender']\n",
    "\n",
    "    if '&' in gender:\n",
    "        genders = gender.split('&')\n",
    "        gender_count = [int(s.split()[0]) for s in genders]\n",
    "        gender_type = [s.split()[1] for s in genders]\n",
    "    else:\n",
    "        gender_count = [members]\n",
    "        gender_type = [gender]\n",
    "\n",
    "    for count, g in zip(gender_count, gender_type):\n",
    "        while count > 0:\n",
    "            avail_rooms = dfh[(dfh['Gender'] == g) & (dfh['Capacity'] >= count)]\n",
    "            avail_rooms = avail_rooms.sort_values(by='Capacity')\n",
    "\n",
    "            if not avail_rooms.empty:\n",
    "                room = avail_rooms.iloc[0]\n",
    "                allocation.append({\n",
    "                    'Group ID': group_id,\n",
    "                    'Hostel Name': room['Hostel Name '],\n",
    "                    'Room Number': room['Room Number '],\n",
    "                    'Members Allocated': count,\n",
    "                    # 'Capacity': room['Capacity']\n",
    "                })\n",
    "                dfh.at[room.name, 'Capacity'] -= count\n",
    "                if dfh.at[room.name, 'Capacity'] == 0:\n",
    "                    dfh = dfh.drop(room.name)\n",
    "                break\n",
    "            else:\n",
    "                avail_rooms = dfh[(dfh['Gender'] == g) & (dfh['Capacity'] <= count)]\n",
    "                if not avail_rooms.empty:\n",
    "                    avail_rooms = avail_rooms.sort_values(by='Capacity', ascending=False)\n",
    "                    room = avail_rooms.iloc[0]\n",
    "                    allocation.append({\n",
    "                        'Group ID': group_id,\n",
    "                        'Hostel Name': room['Hostel Name '],\n",
    "                        'Room Number': room['Room Number '],\n",
    "                        'Members Allocated': room['Capacity'],\n",
    "                        # 'Capacity': room['Capacity']\n",
    "                    })\n",
    "                    count -= room['Capacity']\n",
    "                    dfh = dfh.drop(room.name)\n",
    "                    # count = 0\n",
    "                else:\n",
    "                    allocation.append({\n",
    "                        'Group ID': group_id,\n",
    "                        'Hostel Name': 'NA',\n",
    "                        'Room Number': 'NA',\n",
    "                        'Members remaining': count,\n",
    "                        # 'Capacity': 'NA'\n",
    "                    })\n",
    "                    count = 0\n",
    "\n",
    "# Convert the allocation list to a DataFrame and save it as a CSV file\n",
    "allocation_df = pd.DataFrame(allocation)\n",
    "# allocation_df.to_csv('room_allocation.csv', index=False)\n",
    "\n",
    "# Print allocation DataFrame for verification\n",
    "print(allocation_df)\n"
   ]
  },
  {
   "cell_type": "code",
   "execution_count": 8,
   "id": "b9e30f51-4ae9-4621-b613-4958333a1b62",
   "metadata": {},
   "outputs": [],
   "source": [
    "df = pd.read_csv('group.csv')"
   ]
  },
  {
   "cell_type": "code",
   "execution_count": 14,
   "id": "b887be3b-c9c8-461f-baad-a868a298a4da",
   "metadata": {},
   "outputs": [
    {
     "data": {
      "text/plain": [
       "'Group ID '"
      ]
     },
     "execution_count": 14,
     "metadata": {},
     "output_type": "execute_result"
    }
   ],
   "source": [
    "df.columns[0]"
   ]
  },
  {
   "cell_type": "code",
   "execution_count": null,
   "id": "6d029ed6-2c0f-4ae0-aa1c-3b82ef08b775",
   "metadata": {},
   "outputs": [],
   "source": []
  }
 ],
 "metadata": {
  "kernelspec": {
   "display_name": "Python 3 (ipykernel)",
   "language": "python",
   "name": "python3"
  },
  "language_info": {
   "codemirror_mode": {
    "name": "ipython",
    "version": 3
   },
   "file_extension": ".py",
   "mimetype": "text/x-python",
   "name": "python",
   "nbconvert_exporter": "python",
   "pygments_lexer": "ipython3",
   "version": "3.11.7"
  }
 },
 "nbformat": 4,
 "nbformat_minor": 5
}
