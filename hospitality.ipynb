{
 "cells": [
  {
   "cell_type": "code",
   "execution_count": 2,
   "id": "ca5334c2-f2e2-42ab-968d-886136c108f8",
   "metadata": {},
   "outputs": [],
   "source": [
    "import pandas as pd\n",
    "import numpy as np\n",
    "pd.set_option('display.max_columns', 100)"
   ]
  },
  {
   "cell_type": "code",
   "execution_count": 3,
   "id": "c3ad46e5-532a-4e91-a499-065cde963e06",
   "metadata": {},
   "outputs": [
    {
     "name": "stdout",
     "output_type": "stream",
     "text": [
      "   Group ID Hostel Name Room Number  Members Allocated  Members remaining\n",
      "0       101         BH1         101                  3                  0\n",
      "1       102         GH2         202                  4                  0\n",
      "2       103         BH2         102                  2                  0\n",
      "3       104         GH1         201                  2                  0\n",
      "4       104         GH2         202                  1                  0\n",
      "5       104          NA          NA                  0                  2\n",
      "6       105         BH2         102                  2                  0\n",
      "7       105          NA          NA                  0                  3\n",
      "8       105          NA          NA                  0                  3\n"
     ]
    }
   ],
   "source": [
    "# Load CSV files\n",
    "dfg = pd.read_csv('group.csv', low_memory=False)\n",
    "dfh = pd.read_csv('hostels.csv', low_memory=False)\n",
    "\n",
    "allocation = []\n",
    "\n",
    "# Iterate through each group\n",
    "for _, group in dfg.iterrows():\n",
    "    group_id = group['Group ID ']\n",
    "    members = group['Members']\n",
    "    gender = group['Gender']\n",
    "\n",
    "    if '&' in gender:\n",
    "        genders = gender.split('&')\n",
    "        gender_count = [int(s.split()[0]) for s in genders]\n",
    "        gender_type = [s.split()[1] for s in genders]\n",
    "    else:\n",
    "        gender_count = [members]\n",
    "        gender_type = [gender]\n",
    "\n",
    "    for count, g in zip(gender_count, gender_type):\n",
    "        while count > 0:\n",
    "            avail_rooms = dfh[(dfh['Gender'] == g) & (dfh['Capacity'] >= count)]\n",
    "            avail_rooms = avail_rooms.sort_values(by='Capacity')\n",
    "\n",
    "            if not avail_rooms.empty:\n",
    "                room = avail_rooms.iloc[0]\n",
    "                allocation.append({\n",
    "                    'Group ID': group_id,\n",
    "                    'Hostel Name': room['Hostel Name '],\n",
    "                    'Room Number': room['Room Number '],\n",
    "                    'Members Allocated': count,\n",
    "                    'Members remaining': 0,\n",
    "                    # 'Capacity': room['Capacity']\n",
    "                })\n",
    "                dfh.at[room.name, 'Capacity'] -= count\n",
    "                if dfh.at[room.name, 'Capacity'] == 0:\n",
    "                    dfh = dfh.drop(room.name)\n",
    "                break\n",
    "            else:\n",
    "                avail_rooms = dfh[(dfh['Gender'] == g) & (dfh['Capacity'] <= count)]\n",
    "                if not avail_rooms.empty:\n",
    "                    avail_rooms = avail_rooms.sort_values(by='Capacity', ascending=False)\n",
    "                    room = avail_rooms.iloc[0]\n",
    "                    allocation.append({\n",
    "                        'Group ID': group_id,\n",
    "                        'Hostel Name': room['Hostel Name '],\n",
    "                        'Room Number': room['Room Number '],\n",
    "                        'Members Allocated': room['Capacity'],\n",
    "                        'Members remaining': 0,\n",
    "                        # 'Capacity': room['Capacity']\n",
    "                    })\n",
    "                    count -= room['Capacity']\n",
    "                    dfh = dfh.drop(room.name)\n",
    "                    # count = 0\n",
    "                else:\n",
    "                    allocation.append({\n",
    "                        'Group ID': group_id,\n",
    "                        'Hostel Name': 'NA',\n",
    "                        'Room Number': 'NA',\n",
    "                        'Members Allocated': 0,\n",
    "                        'Members remaining': count,\n",
    "                        # 'Capacity': 'NA'\n",
    "                    })\n",
    "                    count = 0\n",
    "\n",
    "# Convert the allocation list to a DataFrame and save it as a CSV file\n",
    "allocation_df = pd.DataFrame(allocation)\n",
    "# allocation_df.to_csv('room_allocation.csv', index=False)\n",
    "\n",
    "# Print allocation DataFrame for verification\n",
    "print(allocation_df)\n"
   ]
  },
  {
   "cell_type": "code",
   "execution_count": 22,
   "id": "c42810d2-1688-46ac-bae3-07b6d9fb5de2",
   "metadata": {},
   "outputs": [],
   "source": [
    "allocation_df.to_csv('se.csv')"
   ]
  },
  {
   "cell_type": "code",
   "execution_count": null,
   "id": "46961b47-8901-4377-a6d9-b70e9297de1c",
   "metadata": {},
   "outputs": [],
   "source": []
  }
 ],
 "metadata": {
  "kernelspec": {
   "display_name": "Python 3 (ipykernel)",
   "language": "python",
   "name": "python3"
  },
  "language_info": {
   "codemirror_mode": {
    "name": "ipython",
    "version": 3
   },
   "file_extension": ".py",
   "mimetype": "text/x-python",
   "name": "python",
   "nbconvert_exporter": "python",
   "pygments_lexer": "ipython3",
   "version": "3.11.7"
  }
 },
 "nbformat": 4,
 "nbformat_minor": 5
}
